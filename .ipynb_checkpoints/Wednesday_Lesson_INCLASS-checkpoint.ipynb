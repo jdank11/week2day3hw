{
 "cells": [
  {
   "cell_type": "markdown",
   "metadata": {},
   "source": [
    "# Data Collections 2 (Dictionaries, Sets) and Importing Modules"
   ]
  },
  {
   "cell_type": "markdown",
   "metadata": {},
   "source": [
    "## Tasks Today:\n",
    "\n",
    "1) Dictionary <br>\n",
    " &nbsp;&nbsp;&nbsp;&nbsp; a) Declaring (key, value) <br>\n",
    " &nbsp;&nbsp;&nbsp;&nbsp; b) Accessing Values <br>\n",
    " &nbsp;&nbsp;&nbsp;&nbsp; ------ Exercise #1 - Print the eye color of each person in a double nested dict <br>\n",
    " &nbsp;&nbsp;&nbsp;&nbsp; c) Adding New Pairs <br>\n",
    " &nbsp;&nbsp;&nbsp;&nbsp; d) Modifying Values <br>\n",
    " &nbsp;&nbsp;&nbsp;&nbsp; e) Removing Key, Value Pairs <br>\n",
    " &nbsp;&nbsp;&nbsp;&nbsp; f) Looping a Dictionary <br>\n",
    " &nbsp;&nbsp;&nbsp;&nbsp; g) Looping Only Keys <br>\n",
    " &nbsp;&nbsp;&nbsp;&nbsp; h) Looping Only Values <br>\n",
    " &nbsp;&nbsp;&nbsp;&nbsp; ------ Exercise #2 - Create a Function that Prints All Key Value Pairs within a print .format()  <br>\n",
    " &nbsp;&nbsp;&nbsp;&nbsp; i) sorted() <br>\n",
    " &nbsp;&nbsp;&nbsp;&nbsp; j) Lists with Dictionaries <br>\n",
    " &nbsp;&nbsp;&nbsp;&nbsp; k) Dictionaries with Lists <br>\n",
    " &nbsp;&nbsp;&nbsp;&nbsp; l) Dictionaries with Dictionaries <br>\n",
    " &nbsp;&nbsp;&nbsp;&nbsp; ------ Exercise #3 - Write a Function that asks someone's name and address, and then stores that into a dictionary, which prints all names and addresses after they're done putting information in...  <br>\n",
    "2) Dictionaries vs. Lists (over time)<br>\n",
    "3) Set <br>\n",
    " &nbsp;&nbsp;&nbsp;&nbsp; a) Declaring <br>\n",
    " &nbsp;&nbsp;&nbsp;&nbsp; b) .add() <br>\n",
    " &nbsp;&nbsp;&nbsp;&nbsp; c) .remove() <br>\n",
    " &nbsp;&nbsp;&nbsp;&nbsp; d) .union() <br>\n",
    " &nbsp;&nbsp;&nbsp;&nbsp; e) .intersection() <br>\n",
    " &nbsp;&nbsp;&nbsp;&nbsp; f) .difference() <br>\n",
    " &nbsp;&nbsp;&nbsp;&nbsp; g) Frozen Set <br>\n",
    "4) Modules <br>\n",
    " &nbsp;&nbsp;&nbsp;&nbsp; a) Importing Entire Modules <br>\n",
    " &nbsp;&nbsp;&nbsp;&nbsp; b) Importing Methods Only <br>\n",
    " &nbsp;&nbsp;&nbsp;&nbsp; c) Using the 'as' Keyword <br>\n",
    " &nbsp;&nbsp;&nbsp;&nbsp; d) Creating a Module <br>\n",
    "5) Exercises <br>\n",
    " &nbsp;&nbsp;&nbsp;&nbsp; a) Build a Shopping Cart <br>\n",
    " &nbsp;&nbsp;&nbsp;&nbsp; b) Create Your Own Module <br>"
   ]
  },
  {
   "cell_type": "markdown",
   "metadata": {},
   "source": [
    "## Dictionary <br>\n",
    "<p>A collection of data with 'key:value' pairs. Dictionaries are ordered as of Python 3.6</p>"
   ]
  },
  {
   "cell_type": "markdown",
   "metadata": {},
   "source": [
    "##### Declaring (key, value)"
   ]
  },
  {
   "cell_type": "code",
   "execution_count": null,
   "metadata": {},
   "outputs": [],
   "source": [
    "my_dict = {}\n",
    "\n",
    "my_dict2 = dict()\n",
    "\n",
    "a_dict = {'dylan':'123 main st', 'brandt':'124 main st'}"
   ]
  },
  {
   "cell_type": "markdown",
   "metadata": {},
   "source": [
    "##### Accessing Values"
   ]
  },
  {
   "cell_type": "code",
   "execution_count": 8,
   "metadata": {},
   "outputs": [
    {
     "name": "stdout",
     "output_type": "stream",
     "text": [
      "124 main st\n"
     ]
    }
   ],
   "source": [
    "a_dict = {'dylan':'123 main st', 'brandt':'124 main st'}\n",
    "\n",
    "a_dict['dylan']\n",
    "print(a_dict['brandt'])"
   ]
  },
  {
   "cell_type": "markdown",
   "metadata": {},
   "source": [
    "## In-Class Exercise #1 - Print a formatted statement from the dictionary below <br>\n",
    "<p>The output should be '2018 Chevrolet Silverado'</p>"
   ]
  },
  {
   "cell_type": "code",
   "execution_count": 33,
   "metadata": {},
   "outputs": [
    {
     "name": "stdout",
     "output_type": "stream",
     "text": [
      "2018 Chevrolet Silverado\n"
     ]
    }
   ],
   "source": [
    "# use the dict below\n",
    "truck = {\n",
    "    'year': 2018,\n",
    "    'make': 'Chevrolet',\n",
    "    'model': 'Silverado'\n",
    "}\n",
    "\n",
    "print(truck['year'] , truck['make'], truck['model'])\n",
    "\n",
    "\n"
   ]
  },
  {
   "cell_type": "markdown",
   "metadata": {},
   "source": [
    "##### Adding New Pairs"
   ]
  },
  {
   "cell_type": "code",
   "execution_count": 34,
   "metadata": {},
   "outputs": [
    {
     "name": "stdout",
     "output_type": "stream",
     "text": [
      "{'year': 2018, 'make': 'Chevrolet', 'model': 'Silverado', 'color': 'red'}\n"
     ]
    }
   ],
   "source": [
    "truck['color'] = 'red'\n",
    "\n",
    "print(truck)"
   ]
  },
  {
   "cell_type": "markdown",
   "metadata": {},
   "source": [
    "##### Modifying Values"
   ]
  },
  {
   "cell_type": "code",
   "execution_count": 35,
   "metadata": {},
   "outputs": [
    {
     "name": "stdout",
     "output_type": "stream",
     "text": [
      "blue\n"
     ]
    }
   ],
   "source": [
    "truck['color'] = 'blue'\n",
    "print(truck['color'])"
   ]
  },
  {
   "cell_type": "markdown",
   "metadata": {},
   "source": [
    "##### Removing Key, Value Pairs"
   ]
  },
  {
   "cell_type": "code",
   "execution_count": 32,
   "metadata": {},
   "outputs": [
    {
     "name": "stdout",
     "output_type": "stream",
     "text": [
      "blue before\n",
      "{'year': 2018, 'make': 'Chevrolet', 'model': 'Silverado'}\n",
      "{'make': 'Chevrolet', 'model': 'Silverado'}\n",
      "{'make': 'Chevrolet'}\n",
      "Silverado\n"
     ]
    }
   ],
   "source": [
    "print(truck['color'], 'before')\n",
    "truck.pop('color')\n",
    "print(truck)\n",
    "\n",
    "del truck['year']\n",
    "print(truck)\n",
    "\n",
    "model_removed = truck.pop('model')\n",
    "\n",
    "print(truck)\n",
    "print(model_removed)"
   ]
  },
  {
   "cell_type": "markdown",
   "metadata": {},
   "source": [
    "##### Looping a Dictionary"
   ]
  },
  {
   "cell_type": "code",
   "execution_count": 45,
   "metadata": {},
   "outputs": [
    {
     "name": "stdout",
     "output_type": "stream",
     "text": [
      "{'year': 2018, 'make': 'Chevrolet', 'model': 'Silverado', 'color': 'blue'}\n",
      "year 2018\n",
      "k ='year' v = 2018\n",
      "make Chevrolet\n",
      "k ='make' v = 'Chevrolet'\n",
      "model Silverado\n",
      "k ='model' v = 'Silverado'\n",
      "color blue\n",
      "k ='color' v = 'blue'\n"
     ]
    }
   ],
   "source": [
    "# .items()\n",
    "# a, b, c = 1, 2, 3\n",
    "# print(a)\n",
    "# print(b)\n",
    "# print(c)\n",
    "print(truck)\n",
    "\n",
    "truck.items()\n",
    "\n",
    "for (k,v) in truck.items():\n",
    "    print(k,v)\n",
    "    print(f'{k =} {v = }')"
   ]
  },
  {
   "cell_type": "markdown",
   "metadata": {},
   "source": [
    "##### Looping Only Keys"
   ]
  },
  {
   "cell_type": "code",
   "execution_count": 51,
   "metadata": {},
   "outputs": [
    {
     "name": "stdout",
     "output_type": "stream",
     "text": [
      "year 2018\n",
      "make Chevrolet\n",
      "model Silverado\n",
      "color blue\n",
      "year\n",
      "make\n",
      "model\n",
      "color\n"
     ]
    }
   ],
   "source": [
    "# .keys()\n",
    "\n",
    "for k in truck.keys():  #not necessary\n",
    "    print(k, truck[k])\n",
    "          \n",
    "for k in truck:  #does the same thing\n",
    "    print(k)\n"
   ]
  },
  {
   "cell_type": "markdown",
   "metadata": {},
   "source": [
    "##### Looping Only Values"
   ]
  },
  {
   "cell_type": "code",
   "execution_count": 53,
   "metadata": {},
   "outputs": [
    {
     "name": "stdout",
     "output_type": "stream",
     "text": [
      "2018\n",
      "Chevrolet\n",
      "Silverado\n",
      "blue\n"
     ]
    }
   ],
   "source": [
    "# .values()\n",
    "\n",
    "for v in truck.values():  #cant get to the key from the value\n",
    "    print(v)\n"
   ]
  },
  {
   "cell_type": "markdown",
   "metadata": {},
   "source": [
    "## In-Class Exercise #2 - Create a Function that Prints All Key Value Pairs within a print .format() <br>\n",
    "<p><b>Output should be:</b><br>\n",
    "Max has blue eyes<br>\n",
    "Lilly has brown eyes<br>\n",
    "Barney has blue eyes<br>\n",
    "etc.\n",
    "</p>"
   ]
  },
  {
   "cell_type": "code",
   "execution_count": 74,
   "metadata": {},
   "outputs": [
    {
     "name": "stdout",
     "output_type": "stream",
     "text": [
      "Max has blue eyes\n",
      "Lilly has brown eyes\n",
      "Barney has blue eyes\n",
      "Larney has brown eyes\n",
      "Ted has purple eyes\n",
      "year has 2018 eyes\n",
      "make has Chevrolet eyes\n",
      "model has Silverado eyes\n",
      "color has blue eyes\n"
     ]
    }
   ],
   "source": [
    "# use the dict below\n",
    "\n",
    "people = {\n",
    "    'Max': 'blue',\n",
    "    'Lilly': 'brown',\n",
    "    'Barney': 'blue',\n",
    "    'Larney': 'brown',\n",
    "    'Ted': 'purple'\n",
    "}\n",
    "\n",
    "def my_dict(dict):\n",
    "    for (x,y) in dict.items():\n",
    "        print(f'{x} has {y} eyes')\n",
    "        \n",
    "my_dict(people)\n",
    "\n",
    "my_dict(truck)\n",
    "    \n"
   ]
  },
  {
   "cell_type": "markdown",
   "metadata": {},
   "source": [
    "##### sorted()"
   ]
  },
  {
   "cell_type": "code",
   "execution_count": 75,
   "metadata": {},
   "outputs": [
    {
     "data": {
      "text/plain": [
       "['blue', 'blue', 'brown', 'brown', 'purple']"
      ]
     },
     "execution_count": 75,
     "metadata": {},
     "output_type": "execute_result"
    }
   ],
   "source": [
    "# sorts variables in order\n",
    "# sorted(dict.values()) or dict.keys() or dict.items()\n",
    "\n",
    "sorted(people)\n",
    "sorted(people.values())"
   ]
  },
  {
   "cell_type": "markdown",
   "metadata": {},
   "source": [
    "##### List with Dictionaries"
   ]
  },
  {
   "cell_type": "code",
   "execution_count": 83,
   "metadata": {},
   "outputs": [
    {
     "name": "stdout",
     "output_type": "stream",
     "text": [
      "bar\n",
      "[1, 'abc', [1, 0], {'foo': 'bar', 'test': 'data'}, {'stud': ['johnny', 'mike']}]\n"
     ]
    }
   ],
   "source": [
    "random_list = [1, 'abc', [1,0], {'foo':'bar', 'test':'data'}]\n",
    "\n",
    "\n",
    "\n",
    "print(random_list[3]['foo'])\n",
    "\n",
    "random_list.append({'stud':['johnny', 'mike']})\n",
    "print(random_list)"
   ]
  },
  {
   "cell_type": "markdown",
   "metadata": {},
   "source": [
    "##### Dictionaries with Lists"
   ]
  },
  {
   "cell_type": "code",
   "execution_count": 85,
   "metadata": {},
   "outputs": [
    {
     "data": {
      "text/plain": [
       "'go'"
      ]
     },
     "execution_count": 85,
     "metadata": {},
     "output_type": "execute_result"
    }
   ],
   "source": [
    "# be careful when using numbers as keys in dictionaries, don't confuse them with indexes\n",
    "dev = {'dylan': ['python', 'typescript', 'go'] , \n",
    "      'brandt': ['python', 'java', ' rust']\n",
    "      }\n",
    "dev['dylan'][2]\n",
    "\n",
    "\n",
    "\n"
   ]
  },
  {
   "cell_type": "markdown",
   "metadata": {},
   "source": [
    "##### Dictionaries with Dictionaries"
   ]
  },
  {
   "cell_type": "code",
   "execution_count": null,
   "metadata": {},
   "outputs": [],
   "source": [
    "# to get values, must traverse through keys\n",
    "artists = {\n",
    "    'jimmy':{\n",
    "        'age': 23,\n",
    "        'instruments': ['guitar', 'keyboard']\n",
    "    }\n",
    "    'janis':{\n",
    "        'age': 23,\n",
    "        'instruments':['piano', 'bass']\n",
    "    }\n",
    "}\n",
    "\n",
    "artists['janis']['instruments'][1] # puts out 'bass'\n",
    "\n",
    "#artists[1][1][1]  would not work because there is no \"1\" as a key, has to be specific\n"
   ]
  },
  {
   "cell_type": "markdown",
   "metadata": {},
   "source": [
    "## Dictionaries vs. Lists (over time) Example of RUNTIME\n",
    "### When inputting values in a Dictionary vs List"
   ]
  },
  {
   "cell_type": "code",
   "execution_count": 87,
   "metadata": {},
   "outputs": [],
   "source": [
    "import time\n",
    "\n",
    "\n",
    "# generate fake dictionary\n",
    "d = {}\n",
    "\n",
    "for i in range(10000000):\n",
    "    d[i] = 'value'\n",
    "    \n",
    "\n",
    "# generate fake list\n",
    "big_list = [x for x in range(10000000)]"
   ]
  },
  {
   "cell_type": "code",
   "execution_count": 8,
   "metadata": {},
   "outputs": [
    {
     "name": "stdout",
     "output_type": "stream",
     "text": [
      "True\n",
      "Elapsed time for dictionary: 0.0\n",
      "True\n",
      "Elapsed time for list: 0.071014404296875\n"
     ]
    }
   ],
   "source": [
    "# tracking time for dictionary\n",
    "start_time = time.time()\n",
    "\n",
    "print(9999999 in d)\n",
    "\n",
    "end_time = time.time() - start_time\n",
    "\n",
    "print('Elapsed time for dictionary: {}'.format(end_time))\n",
    "\n",
    "\n",
    "# tracking time for list\n",
    "start_time = time.time()\n",
    "\n",
    "\n",
    "print(9999999 in big_list)\n",
    "# for i in range(len(big_list)):\n",
    "#     if i == 9999999:\n",
    "#         print(i)\n",
    "\n",
    "end_time = time.time() - start_time\n",
    "\n",
    "print('Elapsed time for list: {}'.format(end_time))"
   ]
  },
  {
   "cell_type": "markdown",
   "metadata": {},
   "source": [
    "## Exercise #3 - Write a Function that asks someone's name and address, and then stores that into a dictionary, and continues to do so until they choose to 'quit'. Once they quit, the program should print all names and addresses. <br>\n",
    "<p>\n",
    "<b>Proper steps:</b><br>\n",
    "step 1: write a function that takes in information and stores it in a dictionary<br>\n",
    "step 2: define an empty dictionary to work with<br>\n",
    "step 3: create our loop, which asks the user for information until they quit<br>\n",
    "step 4: ask for the information, and store it into variables<br>\n",
    "step 5: check if the user types quit<br>\n",
    "step 5a: print out all information<br>\n",
    "step 5b: break out of the loop<br>\n",
    "step 6: if they didn't quit, add the information to the dictionary<br>\n",
    "step 7: invoke the function by calling it\n",
    "</p>"
   ]
  },
  {
   "cell_type": "code",
   "execution_count": null,
   "metadata": {},
   "outputs": [
    {
     "name": "stdout",
     "output_type": "stream",
     "text": [
      "what is your name? dfgdsf\n"
     ]
    }
   ],
   "source": [
    "from IPython.display import clear_output\n",
    "\n",
    "\n",
    "\n",
    "def list():\n",
    "    home = {}\n",
    "    while True:  \n",
    "        name = input('what is your name? ')\n",
    "        add = input('what is your address? ')\n",
    "        home[name] = add\n",
    "        quitter = input('ready to stop? Y/N\\t ')\n",
    "        if quitter == \"Y\":\n",
    "            break\n",
    "    print(home)\n",
    "\n",
    "list()\n",
    "\n",
    "        \n",
    "\n"
   ]
  },
  {
   "cell_type": "markdown",
   "metadata": {},
   "source": [
    "## Set <br>\n",
    "<p>A Set is an unordered collection data type that is iterable (loop), mutable, and has no duplicate elements.<br>Major advantage is that it is highly optimized in checking if something is in the set, as opposed to checking if something is in a list.</p>"
   ]
  },
  {
   "cell_type": "markdown",
   "metadata": {},
   "source": [
    "##### Declaring"
   ]
  },
  {
   "cell_type": "code",
   "execution_count": 101,
   "metadata": {},
   "outputs": [
    {
     "name": "stdout",
     "output_type": "stream",
     "text": [
      "{2, 3, 4, 5}\n",
      "{'foo', 'bar'}\n"
     ]
    }
   ],
   "source": [
    "# set() or {}\n",
    "# no order {3, 2, 1} outputs as {1, 2, 3}\n",
    "new_set = set([2,3,4,5,2])\n",
    "print(new_set) #drops a 2\n",
    "\n",
    "set_two = {'foo', 'bar', 'foo'}\n",
    "\n",
    "print(set_two)"
   ]
  },
  {
   "cell_type": "markdown",
   "metadata": {},
   "source": [
    "##### .add()"
   ]
  },
  {
   "cell_type": "code",
   "execution_count": 102,
   "metadata": {},
   "outputs": [
    {
     "name": "stdout",
     "output_type": "stream",
     "text": [
      "{'new element', 'foo', 'bar'}\n"
     ]
    }
   ],
   "source": [
    "# set.add()\n",
    "set_two.add('new element')\n",
    "\n",
    "print(set_two)"
   ]
  },
  {
   "cell_type": "markdown",
   "metadata": {},
   "source": [
    "##### .remove()"
   ]
  },
  {
   "cell_type": "code",
   "execution_count": null,
   "metadata": {},
   "outputs": [],
   "source": [
    "# removes by value\n",
    "# set.remove()\n",
    "# nums.remove(56)\n",
    "\n",
    "set_two.remove('new element')\n",
    "\n",
    "print(set_two)\n"
   ]
  },
  {
   "cell_type": "markdown",
   "metadata": {},
   "source": [
    "##### .union() "
   ]
  },
  {
   "cell_type": "code",
   "execution_count": 103,
   "metadata": {},
   "outputs": [],
   "source": [
    "# Returns a union of two sets, can also use '|' or set.union(set)\n",
    "# joins all numbers, gets rid of duplicates\n",
    "\n",
    "set1 = {1,2,3,4,5}\n",
    "set2 = {2,4,6,8}"
   ]
  },
  {
   "cell_type": "markdown",
   "metadata": {},
   "source": [
    "##### .intersection()"
   ]
  },
  {
   "cell_type": "code",
   "execution_count": 106,
   "metadata": {},
   "outputs": [
    {
     "name": "stdout",
     "output_type": "stream",
     "text": [
      "{2, 4}\n"
     ]
    }
   ],
   "source": [
    "# Returns an intersection of two sets, can also use '&'\n",
    "# only takes similar elements from both sets\n",
    "\n",
    "set1.intersection(set2)\n",
    "\n",
    "intersection_set = set1 & set2\n",
    "\n",
    "print(intersection_set)"
   ]
  },
  {
   "cell_type": "markdown",
   "metadata": {},
   "source": [
    "##### .difference()"
   ]
  },
  {
   "cell_type": "code",
   "execution_count": 109,
   "metadata": {},
   "outputs": [
    {
     "name": "stdout",
     "output_type": "stream",
     "text": [
      "{1, 3, 5}\n",
      "{8, 6}\n"
     ]
    }
   ],
   "source": [
    "# Returns a set containing all the elements of invoking set that are not in the second set, can also use '-'\n",
    "# only takes values from the first set that are not in the second set\n",
    "# order matters\n",
    "\n",
    "print(set1.difference(set2))\n",
    "\n",
    "print(set2 - set1)"
   ]
  },
  {
   "cell_type": "markdown",
   "metadata": {},
   "source": [
    "##### .clear()"
   ]
  },
  {
   "cell_type": "code",
   "execution_count": null,
   "metadata": {},
   "outputs": [],
   "source": [
    "# Empties the whole set\n",
    "# set.clear()\n",
    "\n",
    "set3.clear()\n",
    "# or\n",
    "set3 = set()\n",
    "\n"
   ]
  },
  {
   "cell_type": "markdown",
   "metadata": {},
   "source": [
    "##### Frozenset <br>\n",
    "<p>Frozen sets are immutable objects that only support methods and operators that produce a result without affecting the frozen set or sets to which they are applied.</p><br><b>Unique & Immutable</b>"
   ]
  },
  {
   "cell_type": "code",
   "execution_count": null,
   "metadata": {},
   "outputs": [],
   "source": [
    "# frozenset([])\n"
   ]
  },
  {
   "cell_type": "markdown",
   "metadata": {},
   "source": [
    "## Modules"
   ]
  },
  {
   "cell_type": "markdown",
   "metadata": {},
   "source": [
    "##### Importing Entire Modules"
   ]
  },
  {
   "cell_type": "code",
   "execution_count": 111,
   "metadata": {},
   "outputs": [
    {
     "name": "stdout",
     "output_type": "stream",
     "text": [
      "Hello Mr/Ms brandt...we've been waiting for you!\n",
      "100.0\n"
     ]
    }
   ],
   "source": [
    "# import or from 'xxx' import *\n",
    "import math\n",
    "\n",
    "import module\n",
    "\n",
    "module.printName('brandt')\n",
    "\n",
    "print(math.pow(10, 2))\n"
   ]
  },
  {
   "cell_type": "markdown",
   "metadata": {},
   "source": [
    "##### Importing Methods Only"
   ]
  },
  {
   "cell_type": "code",
   "execution_count": null,
   "metadata": {},
   "outputs": [],
   "source": [
    "# from 'xxx' import 'xxx'\n",
    "# from math import floor\n",
    "# imports from specfic and dont need to call the import (module)\n",
    "from module import printName, adder\n",
    "\n",
    "adder(10,10)\n",
    "\n",
    "\n"
   ]
  },
  {
   "cell_type": "markdown",
   "metadata": {},
   "source": [
    "##### Using the 'as' Keyword"
   ]
  },
  {
   "cell_type": "code",
   "execution_count": null,
   "metadata": {},
   "outputs": [],
   "source": [
    "# from 'xxx' import 'xxx' as 'xxx' or import 'xxx' as 'xxx'\n",
    "# from math import floor as f\n"
   ]
  },
  {
   "cell_type": "markdown",
   "metadata": {},
   "source": [
    "##### Creating a Module"
   ]
  },
  {
   "cell_type": "code",
   "execution_count": null,
   "metadata": {},
   "outputs": [],
   "source": []
  },
  {
   "cell_type": "markdown",
   "metadata": {},
   "source": [
    "# Exercises"
   ]
  },
  {
   "cell_type": "markdown",
   "metadata": {},
   "source": [
    "### 1) Build a Shopping Cart <br>\n",
    "<p><b>You can use either lists or dictionaries. The program should have the following capabilities:</b><br><br>\n",
    "1) Takes in input <br>\n",
    "2) Stores user input into a dictionary or list <br>\n",
    "3) The User can add or delete items <br>\n",
    "4) The User can see current shopping list <br>\n",
    "5) The program Loops until user 'quits' <br>\n",
    "6) Upon quiting the program, print out all items in the user's list <br>\n",
    "</p>"
   ]
  },
  {
   "cell_type": "code",
   "execution_count": 1,
   "metadata": {},
   "outputs": [
    {
     "name": "stdout",
     "output_type": "stream",
     "text": [
      "Do you want to: show/add/delete or quit? show\n",
      "Currently, you have [] in your cart\n",
      "Do you want to: show/add/delete or quit? add\n",
      "what would you like to add to your list? (q to quit)ham\n",
      "['ham']\n",
      "Do you want to: show/add/delete or quit? add\n",
      "what would you like to add to your list? (q to quit)eggs\n",
      "['ham', 'eggs']\n",
      "Do you want to: show/add/delete or quit? add\n",
      "what would you like to add to your list? (q to quit)milk\n",
      "['ham', 'eggs', 'milk']\n",
      "Do you want to: show/add/delete or quit? show\n",
      "Currently, you have ['ham', 'eggs', 'milk'] in your cart\n",
      "Do you want to: show/add/delete or quit? delete\n",
      "what would you like to delete from your list? (q to quit) eggs\n",
      "['ham', 'milk']\n",
      "Do you want to: show/add/delete or quit? show\n",
      "Currently, you have ['ham', 'milk'] in your cart\n",
      "Do you want to: show/add/delete or quit? quit\n",
      "thank you, your cart consists of ['ham', 'milk']\n"
     ]
    }
   ],
   "source": [
    "from IPython.display import clear_output\n",
    "\n",
    "# Ask the user four bits of input: Do you want to : Show/Add/Delete or Quit?\n",
    "\n",
    "\n",
    "cart = []\n",
    "\n",
    "while True:\n",
    "    action = input('Do you want to: show/add/delete or quit? ')\n",
    "    if action == 'add':\n",
    "        item = input('what would you like to add to your list? (q to quit)')\n",
    "        if item.lower() == 'q':\n",
    "            break \n",
    "        else:\n",
    "            cart.append(item)\n",
    "            print(cart)     \n",
    "    if action == 'show':\n",
    "        print(f'Currently, you have {cart} in your cart')\n",
    "    if action == 'delete':\n",
    "        item = input('what would you like to delete from your list? (q to quit) ')\n",
    "        if item.lower() == 'q':\n",
    "            break \n",
    "        else:\n",
    "            cart.remove(item)\n",
    "            print(cart) \n",
    "    if action.lower() == 'quit':\n",
    "        print(f'thank you, your cart consists of {cart}')\n",
    "        break\n",
    "\n",
    "\n",
    "    \n",
    "    "
   ]
  },
  {
   "cell_type": "markdown",
   "metadata": {},
   "source": [
    "### 2) Create a Module in VS Code and Import It into jupyter notebook <br>\n",
    "<p><b>Module should have the following capabilities:</b><br><br>\n",
    "1) Has a function to calculate the square footage of a house <br>\n",
    "    <b>Reminder of Formula: Length X Width == Area<br>\n",
    "        <hr>\n",
    "2) Has a function to calculate the circumference of a circle <br><br>\n",
    "<b>Program in Jupyter Notebook should take in user input and use imported functions to calculate a circle's circumference or a houses square footage</b>\n",
    "</p>"
   ]
  },
  {
   "cell_type": "code",
   "execution_count": null,
   "metadata": {},
   "outputs": [
    {
     "name": "stdout",
     "output_type": "stream",
     "text": [
      "90\n",
      "what is the length of the house? 5\n",
      "what is the width of the house? 5\n",
      "the area of a house is 25.0\n"
     ]
    }
   ],
   "source": [
    "from hw import area, circle\n",
    "\n",
    "print(area(10, 9))\n",
    "\n",
    "def house():\n",
    "    l = float(input('what is the length of the house? '))\n",
    "    w = float(input('what is the width of the house? '))\n",
    "    return area(l,w)\n",
    "print('the area of a house is ' + str(house()))\n",
    "\n",
    "def calc():\n",
    "    x = float(input('What is the radius? '))\n",
    "    return circle(x)\n",
    "print('the circumference of a circle is ' + str(calc()))\n",
    "\n",
    "\n",
    "\n",
    "\n",
    "\n",
    "\n"
   ]
  },
  {
   "cell_type": "code",
   "execution_count": null,
   "metadata": {},
   "outputs": [],
   "source": []
  }
 ],
 "metadata": {
  "kernelspec": {
   "display_name": "Python 3 (ipykernel)",
   "language": "python",
   "name": "python3"
  },
  "language_info": {
   "codemirror_mode": {
    "name": "ipython",
    "version": 3
   },
   "file_extension": ".py",
   "mimetype": "text/x-python",
   "name": "python",
   "nbconvert_exporter": "python",
   "pygments_lexer": "ipython3",
   "version": "3.11.5"
  }
 },
 "nbformat": 4,
 "nbformat_minor": 2
}
